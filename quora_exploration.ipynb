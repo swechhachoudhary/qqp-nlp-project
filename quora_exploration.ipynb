{
 "cells": [
  {
   "cell_type": "code",
   "execution_count": 12,
   "metadata": {},
   "outputs": [
    {
     "name": "stdout",
     "output_type": "stream",
     "text": [
      "The autoreload extension is already loaded. To reload it, use:\n",
      "  %reload_ext autoreload\n"
     ]
    }
   ],
   "source": [
    "%load_ext autoreload\n",
    "%autoreload 2"
   ]
  },
  {
   "cell_type": "code",
   "execution_count": 13,
   "metadata": {},
   "outputs": [],
   "source": [
    "import sklearn\n",
    "import glob\n",
    "import pickle\n",
    "import numpy as np\n",
    "import copy\n",
    "import random\n",
    "import os\n",
    "import pandas as pd\n",
    "import re\n",
    "import timeit\n",
    "\n",
    "from sklearn.feature_extraction.text import CountVectorizer, TfidfVectorizer, HashingVectorizer\n",
    "from sklearn.metrics import accuracy_score\n",
    "from sklearn.linear_model import LogisticRegression\n",
    "from sklearn.svm import LinearSVC\n",
    "from sklearn.naive_bayes import MultinomialNB\n",
    "from sklearn.model_selection import KFold\n",
    "from sklearn.metrics import confusion_matrix\n",
    "from sklearn.metrics import precision_recall_fscore_support\n",
    "from sklearn.metrics import f1_score\n",
    "from nltk import word_tokenize\n",
    "from nltk.stem import WordNetLemmatizer\n",
    "from nltk.stem.porter import PorterStemmer\n",
    "from nltk.stem.snowball import SnowballStemmer\n",
    "from nltk.corpus import stopwords\n",
    "from sklearn.preprocessing import StandardScaler, MinMaxScaler\n",
    "from sklearn.model_selection import KFold\n",
    "from sklearn.ensemble import RandomForestClassifier\n",
    "from sklearn.ensemble import AdaBoostClassifier\n",
    "from sklearn.ensemble import GradientBoostingClassifier\n",
    "from sklearn.neural_network import MLPClassifier\n",
    "from sklearn.model_selection import train_test_split\n",
    "\n",
    "from sklearn.model_selection import GridSearchCV \n",
    "\n",
    "\n",
    "from sklearn import model_selection\n",
    "\n",
    "from sklearn.pipeline import Pipeline\n",
    "from sklearn.metrics import classification_report\n",
    "\n",
    "from sklearn.feature_extraction.stop_words import ENGLISH_STOP_WORDS\n",
    "\n",
    "from nltk import sent_tokenize\n",
    "\n",
    "from sklearn.model_selection import train_test_split\n",
    "\n",
    "from sklearn.model_selection import cross_val_score\n",
    "\n",
    "from helpers import LemmaTokenizer, StemTokenizer, SnowballStemTokenizer, misc_features, cleaner, get_tfidf_vectorizer\n",
    "\n",
    "import matplotlib.pyplot as plt"
   ]
  },
  {
   "cell_type": "code",
   "execution_count": 14,
   "metadata": {},
   "outputs": [],
   "source": [
    "%matplotlib inline\n",
    "plt.style.use('ggplot')\n",
    "plt.rcParams['figure.figsize'] = (20, 10)"
   ]
  },
  {
   "cell_type": "markdown",
   "metadata": {},
   "source": [
    "### loading files"
   ]
  },
  {
   "cell_type": "code",
   "execution_count": 3,
   "metadata": {},
   "outputs": [],
   "source": [
    "try:\n",
    "    cwd = os.path.dirname(os.path.abspath(__file__))\n",
    "except:\n",
    "    cwd = os.getcwd()"
   ]
  },
  {
   "cell_type": "code",
   "execution_count": 4,
   "metadata": {},
   "outputs": [],
   "source": [
    "train_filepath = os.path.join(cwd, \"data\", \"train.csv\")"
   ]
  },
  {
   "cell_type": "code",
   "execution_count": 41,
   "metadata": {},
   "outputs": [],
   "source": [
    "train_perc = 0.8\n",
    "\n",
    "train_df = pd.read_csv(train_filepath)\n",
    "X_df = train_df.drop(columns=['is_duplicate'])\n",
    "Y_df = train_df['is_duplicate']\n",
    "\n",
    "X_train, X_test, y_train, y_test =  train_test_split(X_df, Y_df, test_size=0.2, random_state=42)"
   ]
  },
  {
   "cell_type": "code",
   "execution_count": 43,
   "metadata": {},
   "outputs": [
    {
     "data": {
      "text/html": [
       "<div>\n",
       "<style scoped>\n",
       "    .dataframe tbody tr th:only-of-type {\n",
       "        vertical-align: middle;\n",
       "    }\n",
       "\n",
       "    .dataframe tbody tr th {\n",
       "        vertical-align: top;\n",
       "    }\n",
       "\n",
       "    .dataframe thead th {\n",
       "        text-align: right;\n",
       "    }\n",
       "</style>\n",
       "<table border=\"1\" class=\"dataframe\">\n",
       "  <thead>\n",
       "    <tr style=\"text-align: right;\">\n",
       "      <th></th>\n",
       "      <th>id</th>\n",
       "      <th>qid1</th>\n",
       "      <th>qid2</th>\n",
       "      <th>question1</th>\n",
       "      <th>question2</th>\n",
       "    </tr>\n",
       "  </thead>\n",
       "  <tbody>\n",
       "    <tr>\n",
       "      <th>352886</th>\n",
       "      <td>352886</td>\n",
       "      <td>214777</td>\n",
       "      <td>481858</td>\n",
       "      <td>What are some of the short stories?</td>\n",
       "      <td>What are some great short stories with a twist...</td>\n",
       "    </tr>\n",
       "    <tr>\n",
       "      <th>134949</th>\n",
       "      <td>134949</td>\n",
       "      <td>178460</td>\n",
       "      <td>215604</td>\n",
       "      <td>Is this a German Shepherd dog?</td>\n",
       "      <td>Are german shepherd dogs loyal?</td>\n",
       "    </tr>\n",
       "    <tr>\n",
       "      <th>168419</th>\n",
       "      <td>168419</td>\n",
       "      <td>74366</td>\n",
       "      <td>106454</td>\n",
       "      <td>What is the most important lesson ever learned...</td>\n",
       "      <td>What are the most important lessons you have l...</td>\n",
       "    </tr>\n",
       "    <tr>\n",
       "      <th>402543</th>\n",
       "      <td>402543</td>\n",
       "      <td>257727</td>\n",
       "      <td>111990</td>\n",
       "      <td>Which ad networks for mobile native ads have a...</td>\n",
       "      <td>Which ad networks for desktop native ads have ...</td>\n",
       "    </tr>\n",
       "    <tr>\n",
       "      <th>13551</th>\n",
       "      <td>13551</td>\n",
       "      <td>26006</td>\n",
       "      <td>26007</td>\n",
       "      <td>What should I do to be an athlete in a month?</td>\n",
       "      <td>What is shop act licence?</td>\n",
       "    </tr>\n",
       "  </tbody>\n",
       "</table>\n",
       "</div>"
      ],
      "text/plain": [
       "            id    qid1    qid2  \\\n",
       "352886  352886  214777  481858   \n",
       "134949  134949  178460  215604   \n",
       "168419  168419   74366  106454   \n",
       "402543  402543  257727  111990   \n",
       "13551    13551   26006   26007   \n",
       "\n",
       "                                                question1  \\\n",
       "352886                What are some of the short stories?   \n",
       "134949                     Is this a German Shepherd dog?   \n",
       "168419  What is the most important lesson ever learned...   \n",
       "402543  Which ad networks for mobile native ads have a...   \n",
       "13551       What should I do to be an athlete in a month?   \n",
       "\n",
       "                                                question2  \n",
       "352886  What are some great short stories with a twist...  \n",
       "134949                    Are german shepherd dogs loyal?  \n",
       "168419  What are the most important lessons you have l...  \n",
       "402543  Which ad networks for desktop native ads have ...  \n",
       "13551                           What is shop act licence?  "
      ]
     },
     "execution_count": 43,
     "metadata": {},
     "output_type": "execute_result"
    }
   ],
   "source": [
    "X_train.head(5)"
   ]
  },
  {
   "cell_type": "code",
   "execution_count": 14,
   "metadata": {},
   "outputs": [],
   "source": [
    "# combining the strings together"
   ]
  },
  {
   "cell_type": "markdown",
   "metadata": {},
   "source": [
    "### some basic stats"
   ]
  },
  {
   "cell_type": "code",
   "execution_count": 69,
   "metadata": {},
   "outputs": [
    {
     "name": "stdout",
     "output_type": "stream",
     "text": [
      "total questions: 323432\n",
      "duplicates: 36.857206460708895%\n",
      "total questions : 449983\n",
      "questions with multiple occurences: 86047\n"
     ]
    }
   ],
   "source": [
    "question_ids = pd.Series(X_train['qid1'].tolist() + X_train['qid2'].tolist())\n",
    "\n",
    "print('total questions: {}'.format(len(X_train)))\n",
    "print('duplicates: {}%'.format(y_train.values.mean()*100, 2))\n",
    "print('total questions : {}'.format(len(set(question_ids))))\n",
    "print('questions with multiple occurences: {}'.format(np.sum(question_ids.value_counts() > 1)))"
   ]
  },
  {
   "cell_type": "code",
   "execution_count": 70,
   "metadata": {},
   "outputs": [],
   "source": [
    "# checking the amount of duplicates and non duplicates"
   ]
  },
  {
   "cell_type": "code",
   "execution_count": 71,
   "metadata": {},
   "outputs": [
    {
     "data": {
      "text/plain": [
       "<matplotlib.axes._subplots.AxesSubplot at 0x1a2aebcc50>"
      ]
     },
     "execution_count": 71,
     "metadata": {},
     "output_type": "execute_result"
    },
    {
     "data": {
      "image/png": "[encoded data removed]",
      "text/plain": [
       "<Figure size 1440x720 with 1 Axes>"
      ]
     },
     "metadata": {},
     "output_type": "display_data"
    }
   ],
   "source": [
    "train_df.loc[X_train.index].groupby(\"is_duplicate\")['id'].count().plot(kind='bar')"
   ]
  },
  {
   "cell_type": "code",
   "execution_count": 72,
   "metadata": {},
   "outputs": [],
   "source": [
    "# loking at questions that appear multiple times and their distribution"
   ]
  },
  {
   "cell_type": "code",
   "execution_count": 73,
   "metadata": {},
   "outputs": [
    {
     "data": {
      "text/plain": [
       "(0, 10)"
      ]
     },
     "execution_count": 73,
     "metadata": {},
     "output_type": "execute_result"
    },
    {
     "data": {
      "image/png": "[encoded data removed]",
      "text/plain": [
       "<Figure size 1440x720 with 1 Axes>"
      ]
     },
     "metadata": {},
     "output_type": "display_data"
    }
   ],
   "source": [
    "plt.figure()\n",
    "question_ids.value_counts().plot(kind='hist', bins=1000)\n",
    "plt.xlim(0, 10)"
   ]
  },
  {
   "cell_type": "markdown",
   "metadata": {},
   "source": [
    "mostly appear very few times, good."
   ]
  },
  {
   "cell_type": "code",
   "execution_count": 35,
   "metadata": {},
   "outputs": [],
   "source": [
    "# word count distribution"
   ]
  },
  {
   "cell_type": "code",
   "execution_count": 83,
   "metadata": {},
   "outputs": [],
   "source": [
    "question_cat = pd.Series(X_train['question1'].tolist() + X_train['question2'].tolist())"
   ]
  },
  {
   "cell_type": "code",
   "execution_count": 92,
   "metadata": {},
   "outputs": [
    {
     "name": "stderr",
     "output_type": "stream",
     "text": [
      "No handles with labels found to put in legend.\n"
     ]
    },
    {
     "name": "stdout",
     "output_type": "stream",
     "text": [
      "mean: 11.065537732815553; std 5.888389777969719; max 237\n"
     ]
    },
    {
     "data": {
      "image/png": "[encoded data removed]",
      "text/plain": [
       "<Figure size 1440x720 with 1 Axes>"
      ]
     },
     "metadata": {},
     "output_type": "display_data"
    }
   ],
   "source": [
    "word_spread = question_cat.apply(lambda x: len(x.split(' ')))\n",
    "\n",
    "plt.figure()\n",
    "plt.hist(word_spread, bins=50, range=[0, 60])\n",
    "plt.title('Distribution of Word Counts of Questions')\n",
    "plt.legend()\n",
    "plt.xlabel('# Words', fontsize=15)\n",
    "plt.ylabel('Frequency', fontsize=15)\n",
    "\n",
    "print('mean: {}; std {}; max {}'.format(word_spread.mean(), word_spread.std(), word_spread.max()))"
   ]
  },
  {
   "cell_type": "code",
   "execution_count": 91,
   "metadata": {},
   "outputs": [
    {
     "data": {
      "text/plain": [
       "count    646864.000000\n",
       "mean         11.065538\n",
       "std           5.888390\n",
       "min           1.000000\n",
       "25%           7.000000\n",
       "50%          10.000000\n",
       "75%          13.000000\n",
       "max         237.000000\n",
       "dtype: float64"
      ]
     },
     "execution_count": 91,
     "metadata": {},
     "output_type": "execute_result"
    }
   ],
   "source": [
    "word_spread.describe()"
   ]
  },
  {
   "cell_type": "markdown",
   "metadata": {},
   "source": [
    "Looks like most questions fall between 7 to 13 words."
   ]
  },
  {
   "cell_type": "markdown",
   "metadata": {},
   "source": [
    "### word overlaps"
   ]
  },
  {
   "cell_type": "code",
   "execution_count": 153,
   "metadata": {},
   "outputs": [],
   "source": [
    "stop_words = set(stopwords.words(\"english\"))\n",
    "\n",
    "def get_word_diffs(questions):\n",
    "    q1_list = str(questions['question1']).lower().split()\n",
    "    q2_list = str(questions['question2']).lower().split()\n",
    "    \n",
    "    q1_list = [word for word in q1_list if word not in stop_words]\n",
    "    q2_list = [word for word in q2_list if word not in stop_words]\n",
    "    \n",
    "    diff = abs(len(q1_list) - len(q2_list))\n",
    "    \n",
    "    return diff\n",
    "\n",
    "def get_word_overlaps(questions):\n",
    "#     print(questions)\n",
    "    q1_list = str(questions['question1']).lower().split()\n",
    "    q2_list = str(questions['question2']).lower().split()\n",
    "    \n",
    "    q1_list = [word for word in q1_list if word not in stop_words]\n",
    "    q2_list = [word for word in q2_list if word not in stop_words]\n",
    "    \n",
    "    q1_set = set(q1_list)\n",
    "    q2_set = set(q2_list)\n",
    "    q12_set = set(q1_list + q2_list)\n",
    "    \n",
    "    overlap_count = q1_set.intersection(q2_set)\n",
    "    overlap_perc = float(len(overlap_count)) / len(q12_set)\n",
    "    \n",
    "    return overlap_perc"
   ]
  },
  {
   "cell_type": "code",
   "execution_count": 154,
   "metadata": {},
   "outputs": [],
   "source": [
    "word_overlaps = train_df.loc[X_train.index].apply(get_word_overlaps, axis=1)"
   ]
  },
  {
   "cell_type": "code",
   "execution_count": 160,
   "metadata": {},
   "outputs": [],
   "source": [
    "word_diffs = train_df.loc[X_train.index].apply(get_word_diffs, axis=1)"
   ]
  },
  {
   "cell_type": "code",
   "execution_count": 163,
   "metadata": {},
   "outputs": [
    {
     "name": "stderr",
     "output_type": "stream",
     "text": [
      "/Users/nahiyanmalik/anaconda/envs/mlp3/lib/python3.6/site-packages/ipykernel_launcher.py:2: MatplotlibDeprecationWarning: \n",
      "The 'normed' kwarg was deprecated in Matplotlib 2.1 and will be removed in 3.1. Use 'density' instead.\n",
      "  \n",
      "/Users/nahiyanmalik/anaconda/envs/mlp3/lib/python3.6/site-packages/ipykernel_launcher.py:3: MatplotlibDeprecationWarning: \n",
      "The 'normed' kwarg was deprecated in Matplotlib 2.1 and will be removed in 3.1. Use 'density' instead.\n",
      "  This is separate from the ipykernel package so we can avoid doing imports until\n"
     ]
    },
    {
     "data": {
      "text/plain": [
       "<matplotlib.legend.Legend at 0x1a4e49be10>"
      ]
     },
     "execution_count": 163,
     "metadata": {},
     "output_type": "execute_result"
    },
    {
     "data": {
      "image/png": "[encoded data removed]",
      "text/plain": [
       "<Figure size 1440x720 with 1 Axes>"
      ]
     },
     "metadata": {},
     "output_type": "display_data"
    }
   ],
   "source": [
    "plt.figure()\n",
    "plt.hist(word_overlaps[train_df.loc[X_train.index]['is_duplicate'] == 0], bins=25, normed=True, label='not duplicate', alpha=.5)\n",
    "plt.hist(word_overlaps[train_df.loc[X_train.index]['is_duplicate'] == 1], bins=25, normed=True, label='duplicate', alpha=.5)\n",
    "plt.title('Word Type Overlaps per Label')\n",
    "plt.xlabel('Word Type Overlap')\n",
    "plt.ylabel('Frequency')\n",
    "plt.legend()"
   ]
  },
  {
   "cell_type": "code",
   "execution_count": 164,
   "metadata": {},
   "outputs": [
    {
     "name": "stderr",
     "output_type": "stream",
     "text": [
      "/Users/nahiyanmalik/anaconda/envs/mlp3/lib/python3.6/site-packages/ipykernel_launcher.py:2: MatplotlibDeprecationWarning: \n",
      "The 'normed' kwarg was deprecated in Matplotlib 2.1 and will be removed in 3.1. Use 'density' instead.\n",
      "  \n",
      "/Users/nahiyanmalik/anaconda/envs/mlp3/lib/python3.6/site-packages/ipykernel_launcher.py:3: MatplotlibDeprecationWarning: \n",
      "The 'normed' kwarg was deprecated in Matplotlib 2.1 and will be removed in 3.1. Use 'density' instead.\n",
      "  This is separate from the ipykernel package so we can avoid doing imports until\n"
     ]
    },
    {
     "data": {
      "text/plain": [
       "<matplotlib.legend.Legend at 0x1a58c66748>"
      ]
     },
     "execution_count": 164,
     "metadata": {},
     "output_type": "execute_result"
    },
    {
     "data": {
      "image/png": "[encoded data removed]",
      "text/plain": [
       "<Figure size 1440x720 with 1 Axes>"
      ]
     },
     "metadata": {},
     "output_type": "display_data"
    }
   ],
   "source": [
    "plt.figure()\n",
    "plt.hist(word_diffs[train_df.loc[X_train.index]['is_duplicate'] == 0], bins=25, normed=True, label='not duplicate', alpha=.5)\n",
    "plt.hist(word_diffs[train_df.loc[X_train.index]['is_duplicate'] == 1], bins=25, normed=True, label='duplicate', alpha=.5)\n",
    "plt.title('Word Type Difference per Label')\n",
    "plt.xlabel('Word Type Difference')\n",
    "plt.ylabel('Frequency')\n",
    "plt.legend()"
   ]
  },
  {
   "cell_type": "markdown",
   "metadata": {},
   "source": [
    "as can be seen from above, the overlap of words types and the differences in types do a good job in separating the labels.\n",
    "\n",
    "higher word type overlaps indicate a higher probability of a duplicate question. a lower word type count difference has a higher probability of being a duplicate question. this is a good confirmation of word similarity being a good indicator of word similarity playing a large role in paraprhase detection.\n",
    "\n",
    "there are many ways of computing features for relatedness. the three in focus here are the following:\n",
    "\n",
    "https://www.researchgate.net/publication/228560462_A_Metric_for_Paraphrase_Detection\n",
    "euclidean distances\n",
    "\n",
    "https://arxiv.org/pdf/1805.11611.pdf\n",
    "edit distance\n",
    "\n",
    "https://ieeexplore.ieee.org/document/8404391\n",
    "word embedding\n",
    "\n",
    "there is also a focus placed on each feature being independent of the question. that is, intead of two length features for questions 1 and 2, a single difference feature encompasses the difference. By reducing the number of features to convey the same information, the goal is greater generalization. https://pdfs.semanticscholar.org/d178/b2e01eaf67e81bdf9406643b701be709f285.pdf employs this strategy."
   ]
  }
 ],
 "metadata": {
  "kernelspec": {
   "display_name": "mlp3",
   "language": "python",
   "name": "mlp3"
  },
  "language_info": {
   "codemirror_mode": {
    "name": "ipython",
    "version": 3
   },
   "file_extension": ".py",
   "mimetype": "text/x-python",
   "name": "python",
   "nbconvert_exporter": "python",
   "pygments_lexer": "ipython3",
   "version": "3.6.8"
  }
 },
 "nbformat": 4,
 "nbformat_minor": 2
}
